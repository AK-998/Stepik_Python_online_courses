{
 "cells": [
  {
   "cell_type": "markdown",
   "id": "0e0b30ff",
   "metadata": {},
   "source": [
    "# Курс биоинформатики 2"
   ]
  },
  {
   "cell_type": "markdown",
   "id": "df191a2e",
   "metadata": {},
   "source": [
    "## Модуль 1"
   ]
  },
  {
   "cell_type": "markdown",
   "id": "0b06a7af",
   "metadata": {},
   "source": [
    "Мое решение"
   ]
  },
  {
   "cell_type": "code",
   "execution_count": 22,
   "id": "204a028a",
   "metadata": {},
   "outputs": [],
   "source": [
    "objects = [{1:'2'},1, 2, 1, [1,2], [1,2], 2, 3, {1:'2'}]"
   ]
  },
  {
   "cell_type": "code",
   "execution_count": 21,
   "id": "51983db4",
   "metadata": {},
   "outputs": [
    {
     "name": "stdout",
     "output_type": "stream",
     "text": [
      "7\n"
     ]
    }
   ],
   "source": [
    "for i in range (len(objects)):\n",
    "    objects[i] = id(objects[i])\n",
    "print(len(set(objects)))"
   ]
  },
  {
   "cell_type": "markdown",
   "id": "cd5e7f4b",
   "metadata": {},
   "source": [
    "Решение из комментов"
   ]
  },
  {
   "cell_type": "code",
   "execution_count": 23,
   "id": "d3a10a48",
   "metadata": {},
   "outputs": [
    {
     "name": "stdout",
     "output_type": "stream",
     "text": [
      "7\n"
     ]
    }
   ],
   "source": [
    "print(len(set(map(id, objects))))"
   ]
  },
  {
   "cell_type": "code",
   "execution_count": null,
   "id": "87ecab2a",
   "metadata": {},
   "outputs": [],
   "source": [
    "def list_sum(lst):\n",
    "    result = 0\n",
    "    for element in lst:\n",
    "        result += element\n",
    "    return result\n",
    "def sum(a,b):\n",
    "    return a + b\n",
    "y= sum(14, 29)\n",
    "z = list_sum([1, 2, 3])\n",
    "print(y)\n",
    "print(z)"
   ]
  },
  {
   "cell_type": "markdown",
   "id": "d75a034b",
   "metadata": {},
   "source": [
    "Задача на число сочетаний (рекурсия)"
   ]
  },
  {
   "cell_type": "code",
   "execution_count": 38,
   "id": "43938e23",
   "metadata": {},
   "outputs": [],
   "source": [
    "def combinations(a, b):\n",
    "    if b == 0:\n",
    "        return 1 \n",
    "    if b > a:\n",
    "        return 0\n",
    "    return (combinations(a-1,b) + combinations(a-1,b-1)) "
   ]
  },
  {
   "cell_type": "markdown",
   "id": "13377c74",
   "metadata": {},
   "source": [
    "# 1.4"
   ]
  },
  {
   "cell_type": "markdown",
   "id": "e84c20ad",
   "metadata": {},
   "source": [
    "Задача на наймспейсы"
   ]
  },
  {
   "cell_type": "code",
   "execution_count": 15,
   "id": "94fad5e0",
   "metadata": {},
   "outputs": [
    {
     "name": "stdout",
     "output_type": "stream",
     "text": [
      "9\n",
      "add global a\n",
      "create foo global\n",
      "add foo b\n",
      "get foo a\n",
      "get foo c\n",
      "create bar foo\n",
      "add bar a\n",
      "get bar a\n",
      "get bar b\n",
      "global\n",
      "None\n",
      "bar\n",
      "foo\n"
     ]
    }
   ],
   "source": [
    "b =[input().split() for i in range (int(input()))]\n",
    "namespaces = {'global': {'parent' : 'None', 'vars' : []}}\n",
    "def create(name_ns, parent_ns):\n",
    "    namespaces[name_ns] = {'parent' : parent_ns, 'vars' : []}\n",
    "def add_to_ns(name_ns, var):\n",
    "    namespaces[name_ns]['vars'].append(var)\n",
    "def get (name_ns, var):\n",
    "    if var in namespaces[name_ns]['vars']:\n",
    "        print (name_ns)\n",
    "        return name_ns\n",
    "    if namespaces[name_ns]['parent'] != 'None':\n",
    "        return get(namespaces[name_ns]['parent'], var)\n",
    "    print ('None')\n",
    "    return 'None'\n",
    "for rows in range(len(b)):\n",
    "    if b[rows][0] == 'create':\n",
    "        create(b[rows][1], b[rows][2])\n",
    "    elif b[rows][0] == 'add':\n",
    "        add_to_ns(b[rows][1], b[rows][2])\n",
    "    else:\n",
    "        get(b[rows][1], b[rows][2])"
   ]
  },
  {
   "cell_type": "markdown",
   "id": "f63850d0",
   "metadata": {},
   "source": [
    "Решение со степика из комментов"
   ]
  },
  {
   "cell_type": "code",
   "execution_count": null,
   "id": "0427423a",
   "metadata": {},
   "outputs": [],
   "source": [
    "n = int(input())\n",
    "\n",
    "parent = {\"global\": None}\n",
    "vs = {\"global\": set()}\n",
    "\n",
    "for _ in range(n):\n",
    "    t, fst, snd = input().split()\n",
    "    if t == \"create\":\n",
    "        parent[fst] = snd\n",
    "        vs[fst] = set()\n",
    "    elif t == \"add\":\n",
    "        vs[fst].add(snd)\n",
    "    else:  # t == get\n",
    "        while fst is not None:\n",
    "            if snd in vs[fst]:\n",
    "                break\n",
    "            fst = parent[fst]\n",
    "        print(fst)"
   ]
  },
  {
   "cell_type": "markdown",
   "id": "c9c0e8f6",
   "metadata": {},
   "source": [
    "# 1.5"
   ]
  },
  {
   "cell_type": "markdown",
   "id": "da014201",
   "metadata": {},
   "source": [
    "Мое решение"
   ]
  },
  {
   "cell_type": "code",
   "execution_count": 22,
   "id": "f745265f",
   "metadata": {},
   "outputs": [],
   "source": [
    "class MoneyBox:\n",
    "    def __init__(self, capacity):\n",
    "        self.capacity = capacity\n",
    "\n",
    "    def can_add(self, v):\n",
    "        if v <= self.capacity:\n",
    "            return True\n",
    "        return False\n",
    "\n",
    "    def add(self, v):\n",
    "        if self.can_add(v) == True:\n",
    "            self.capacity -= v"
   ]
  },
  {
   "cell_type": "markdown",
   "id": "74e4135f",
   "metadata": {},
   "source": [
    "Комменты на степике"
   ]
  },
  {
   "cell_type": "code",
   "execution_count": null,
   "id": "a971e532",
   "metadata": {},
   "outputs": [],
   "source": [
    "class MoneyBox:\n",
    "    def __init__(self, capacity):\n",
    "        self.count_coin = 0\n",
    "        self.capacity = capacity\n",
    "\n",
    "    def can_add(self, v):\n",
    "        return self.count_coin + v <= self.capacity\n",
    "\n",
    "    def add(self, v):\n",
    "        if self.can_add(v):\n",
    "            self.count_coin += v"
   ]
  },
  {
   "cell_type": "markdown",
   "id": "430f3a2c",
   "metadata": {},
   "source": [
    "Еще одно задание (мое)"
   ]
  },
  {
   "cell_type": "code",
   "execution_count": 69,
   "id": "46701af2",
   "metadata": {},
   "outputs": [],
   "source": [
    "class Buffer:\n",
    "    def __init__(self, main_lst = []):\n",
    "        self.main_lst = []\n",
    "\n",
    "    def add(self, *a):\n",
    "        counter = 0\n",
    "        while counter < len(a):\n",
    "            self.main_lst.append(a[counter])\n",
    "            if len(self.main_lst) == 5:\n",
    "                print(sum(self.main_lst))\n",
    "                self.main_lst.clear()\n",
    "            counter += 1\n",
    "\n",
    "    def get_current_part(self):\n",
    "            return (self.main_lst)"
   ]
  },
  {
   "cell_type": "markdown",
   "id": "672c6030",
   "metadata": {},
   "source": [
    "Из комментов"
   ]
  },
  {
   "cell_type": "code",
   "execution_count": null,
   "id": "350a3f99",
   "metadata": {},
   "outputs": [],
   "source": [
    "class Buffer:\n",
    "    def __init__(self):\n",
    "        self.part = []\n",
    "\n",
    "    def add(self, *a):\n",
    "        for i in a:\n",
    "            self.part.append(i)\n",
    "            if len(self.part) == 5:\n",
    "                print(sum(self.part))\n",
    "                self.part.clear()\n",
    "\n",
    "    def get_current_part(self):\n",
    "        return self.part"
   ]
  },
  {
   "cell_type": "markdown",
   "id": "342af60a",
   "metadata": {},
   "source": [
    "# 1.6"
   ]
  },
  {
   "cell_type": "code",
   "execution_count": 6,
   "id": "5d671956",
   "metadata": {},
   "outputs": [
    {
     "name": "stdout",
     "output_type": "stream",
     "text": [
      "4\n",
      "A\n",
      "B : A\n",
      "C : A\n",
      "D : B C\n"
     ]
    }
   ],
   "source": [
    "list_cls = [input().split() for _ in range(int(input()))]"
   ]
  },
  {
   "cell_type": "code",
   "execution_count": 12,
   "id": "0c6d4311",
   "metadata": {},
   "outputs": [],
   "source": [
    "dict_cls = {}\n",
    "for i in range (len(list_cls)):\n",
    "    if len(list_cls[i]) > 1:\n",
    "        dict_cls[list_cls[i][0]] = list_cls[i][2:]\n",
    "    else:\n",
    "        dict_cls[list_cls[i][0]] = []"
   ]
  },
  {
   "cell_type": "code",
   "execution_count": 16,
   "id": "d03ec95a",
   "metadata": {},
   "outputs": [
    {
     "name": "stdout",
     "output_type": "stream",
     "text": [
      "2\n",
      "a s\n",
      "a t\n"
     ]
    }
   ],
   "source": [
    "check_list = [input().split() for _ in range(int(input()))]"
   ]
  },
  {
   "cell_type": "code",
   "execution_count": 18,
   "id": "2d511980",
   "metadata": {},
   "outputs": [],
   "source": [
    "def check_in_dict(predok, potomok, dict_cls):\n",
    "    if predok == potomok:\n",
    "        print ('Yes')\n",
    "        return True\n",
    "    if predok in dict_cls[potomok]:\n",
    "        print ('Yes')\n",
    "        return True\n",
    "    if len(dict_cls[potomok])>1:\n",
    "        for i in dict_cls[potomok]:\n",
    "            if predok in dict_cls[i]:\n",
    "                print ('Yes')\n",
    "                return True\n",
    "    print ('No')\n",
    "    return False"
   ]
  },
  {
   "cell_type": "code",
   "execution_count": 20,
   "id": "d519fc54",
   "metadata": {
    "scrolled": true
   },
   "outputs": [
    {
     "data": {
      "text/plain": [
       "True"
      ]
     },
     "execution_count": 20,
     "metadata": {},
     "output_type": "execute_result"
    }
   ],
   "source": [
    "for row in range(len(check_clist)):\n",
    "    check_in_dict(check_list[0], check_list[1], dict_cls)"
   ]
  },
  {
   "cell_type": "code",
   "execution_count": 31,
   "id": "a60cb22e",
   "metadata": {},
   "outputs": [
    {
     "name": "stdout",
     "output_type": "stream",
     "text": [
      "No\n",
      "Yes\n",
      "Yes\n",
      "Yes\n",
      "Yes\n",
      "No\n",
      "No\n",
      "No\n",
      "No\n",
      "No\n",
      "Yes\n",
      "No\n",
      "No\n",
      "Yes\n",
      "No\n",
      "No\n",
      "Yes\n",
      "Yes\n",
      "No\n",
      "Yes\n",
      "No\n",
      "No\n",
      "Yes\n",
      "Yes\n",
      "No\n",
      "No\n",
      "No\n",
      "Yes\n",
      "Yes\n",
      "No\n",
      "Yes\n",
      "No\n",
      "No\n",
      "No\n",
      "Yes\n",
      "No\n",
      "Yes\n",
      "No\n"
     ]
    }
   ],
   "source": [
    "input = open(\"import.txt\", \"r\").readline\n",
    "list_cls = [input().split() for _ in range(int(input()))]\n",
    "dict_cls = {}\n",
    "\n",
    "for i in range (len(list_cls)):\n",
    "    if len(list_cls[i]) > 1:\n",
    "        dict_cls[list_cls[i][0]] = list_cls[i][2:]\n",
    "    else:\n",
    "        dict_cls[list_cls[i][0]] = []\n",
    "\n",
    "check_list = [input().split() for _ in range(int(input()))]\n",
    "\n",
    "def check_in_dict(predok, potomok, dict_cls):\n",
    "    if predok == potomok:\n",
    "        print ('Yes')\n",
    "        return True\n",
    "    if predok in dict_cls[potomok]:\n",
    "        print ('Yes')\n",
    "        return True\n",
    "    if len(dict_cls[potomok])>0:\n",
    "        for i in dict_cls[potomok]:\n",
    "            if predok in dict_cls[i]:\n",
    "                print ('Yes')\n",
    "                return True\n",
    "    print ('No')\n",
    "    return False\n",
    "\n",
    "for row in range(len(check_list)):\n",
    "    check_in_dict(check_list[row][0], check_list[row][1], dict_cls)"
   ]
  },
  {
   "cell_type": "code",
   "execution_count": 1,
   "id": "d7ad15b8",
   "metadata": {},
   "outputs": [
    {
     "name": "stdout",
     "output_type": "stream",
     "text": [
      "Yes\n",
      "No\n",
      "No\n",
      "No\n",
      "No\n",
      "Yes\n",
      "Yes\n",
      "Yes\n",
      "Yes\n",
      "Yes\n",
      "No\n",
      "No\n",
      "No\n",
      "No\n",
      "No\n",
      "No\n",
      "No\n",
      "No\n",
      "No\n",
      "No\n",
      "No\n",
      "No\n",
      "No\n",
      "No\n",
      "No\n",
      "No\n",
      "No\n",
      "No\n",
      "No\n",
      "Yes\n",
      "No\n",
      "No\n",
      "No\n",
      "No\n",
      "No\n",
      "No\n",
      "No\n",
      "No\n",
      "No\n",
      "No\n",
      "No\n",
      "No\n",
      "No\n",
      "No\n",
      "No\n",
      "No\n",
      "No\n",
      "No\n",
      "No\n",
      "No\n",
      "No\n",
      "No\n",
      "No\n",
      "No\n",
      "No\n",
      "No\n",
      "No\n",
      "No\n",
      "No\n",
      "No\n",
      "No\n",
      "No\n",
      "No\n",
      "No\n",
      "No\n",
      "No\n",
      "No\n",
      "No\n",
      "No\n",
      "No\n",
      "No\n",
      "No\n",
      "Yes\n",
      "Yes\n",
      "Yes\n",
      "No\n",
      "No\n",
      "No\n",
      "No\n",
      "Yes\n",
      "No\n",
      "No\n",
      "No\n",
      "No\n",
      "No\n",
      "No\n",
      "Yes\n",
      "No\n",
      "No\n",
      "No\n",
      "No\n",
      "Yes\n",
      "Yes\n",
      "No\n",
      "Yes\n",
      "No\n",
      "No\n",
      "No\n",
      "Yes\n",
      "No\n",
      "No\n",
      "No\n",
      "No\n",
      "No\n",
      "No\n",
      "No\n",
      "No\n",
      "No\n",
      "No\n",
      "No\n",
      "Yes\n",
      "No\n",
      "No\n",
      "No\n",
      "No\n",
      "No\n",
      "No\n",
      "Yes\n",
      "No\n",
      "No\n",
      "No\n",
      "No\n",
      "No\n",
      "No\n",
      "No\n",
      "No\n",
      "No\n",
      "No\n",
      "No\n",
      "Yes\n",
      "No\n",
      "No\n",
      "No\n",
      "No\n",
      "No\n",
      "No\n",
      "No\n",
      "No\n",
      "Yes\n",
      "No\n",
      "No\n",
      "No\n",
      "No\n",
      "No\n",
      "No\n",
      "Yes\n",
      "Yes\n",
      "No\n",
      "No\n",
      "No\n",
      "No\n",
      "No\n",
      "No\n",
      "No\n",
      "No\n",
      "No\n",
      "No\n",
      "No\n",
      "No\n",
      "No\n",
      "No\n",
      "No\n",
      "No\n",
      "No\n",
      "No\n",
      "No\n",
      "No\n",
      "No\n",
      "No\n",
      "No\n",
      "No\n",
      "No\n",
      "No\n",
      "No\n",
      "No\n",
      "No\n",
      "Yes\n",
      "No\n",
      "Yes\n",
      "No\n",
      "No\n",
      "Yes\n",
      "No\n"
     ]
    },
    {
     "ename": "AttributeError",
     "evalue": "'builtin_function_or_method' object has no attribute 'close'",
     "output_type": "error",
     "traceback": [
      "\u001b[1;31m---------------------------------------------------------------------------\u001b[0m",
      "\u001b[1;31mAttributeError\u001b[0m                            Traceback (most recent call last)",
      "Cell \u001b[1;32mIn [1], line 29\u001b[0m\n\u001b[0;32m     26\u001b[0m \u001b[38;5;28;01mfor\u001b[39;00m row \u001b[38;5;129;01min\u001b[39;00m \u001b[38;5;28mrange\u001b[39m(\u001b[38;5;28mlen\u001b[39m(check_list)):\n\u001b[0;32m     27\u001b[0m     check_in_dict(check_list[row][\u001b[38;5;241m0\u001b[39m], check_list[row][\u001b[38;5;241m1\u001b[39m], dict_cls)\n\u001b[1;32m---> 29\u001b[0m \u001b[38;5;28;43minput\u001b[39;49m\u001b[38;5;241;43m.\u001b[39;49m\u001b[43mclose\u001b[49m()\n",
      "\u001b[1;31mAttributeError\u001b[0m: 'builtin_function_or_method' object has no attribute 'close'"
     ]
    }
   ],
   "source": [
    "input = open(\"import.txt\", \"r\").readline\n",
    "list_cls = [input().split() for _ in range(int(input()))]\n",
    "dict_cls = {}\n",
    "\n",
    "for i in range (len(list_cls)):\n",
    "    if len(list_cls[i]) > 1:\n",
    "        dict_cls[list_cls[i][0]] = list_cls[i][2:]\n",
    "    else:\n",
    "        dict_cls[list_cls[i][0]] = []\n",
    "\n",
    "check_list = [input().split() for _ in range(int(input()))]\n",
    "\n",
    "def check_in_dict(predok, potomok, dict_cls):\n",
    "    if predok == potomok:\n",
    "        print ('Yes')\n",
    "        return True\n",
    "    if predok in dict_cls[potomok]:\n",
    "        print ('Yes')\n",
    "        return True\n",
    "    if len(dict_cls[potomok])>0:\n",
    "        for i in dict_cls[potomok]:\n",
    "            check_in_dict(predok, i, dict_cls)\n",
    "    print('No')\n",
    "    return False\n",
    "\n",
    "for row in range(len(check_list)):\n",
    "    check_in_dict(check_list[row][0], check_list[row][1], dict_cls)\n",
    "    \n",
    "input.close()"
   ]
  },
  {
   "cell_type": "markdown",
   "id": "1133fe2d",
   "metadata": {},
   "source": [
    "Расширенный стек"
   ]
  },
  {
   "cell_type": "code",
   "execution_count": 3,
   "id": "f52cc3f8",
   "metadata": {},
   "outputs": [],
   "source": [
    "class ExtendedStack(list):\n",
    "    def sum(self):\n",
    "        a = self.pop()\n",
    "        b = self.pop()\n",
    "        self.append(a+b)\n",
    "\n",
    "    def sub(self):\n",
    "        a = self.pop()\n",
    "        b = self.pop()\n",
    "        self.append(a-b)\n",
    "        \n",
    "    def mul(self):\n",
    "        a = self.pop()\n",
    "        b = self.pop()\n",
    "        self.append(a*b)\n",
    "\n",
    "    def div(self):\n",
    "        a = self.pop()\n",
    "        b = self.pop()\n",
    "        self.append(a//b)"
   ]
  },
  {
   "cell_type": "markdown",
   "id": "b708a08a",
   "metadata": {},
   "source": [
    "Пример покороче"
   ]
  },
  {
   "cell_type": "code",
   "execution_count": 12,
   "id": "3fe99107",
   "metadata": {},
   "outputs": [],
   "source": [
    "class ExtendedStack(list):\n",
    "    def sum(self):\n",
    "        self.append(self.pop() + self.pop())\n",
    "\n",
    "    def sub(self):\n",
    "        self.append(self.pop() - self.pop())\n",
    "\n",
    "    def mul(self):\n",
    "        self.append(self.pop() * self.pop())\n",
    "\n",
    "    def div(self):\n",
    "        self.append(self.pop() // self.pop())"
   ]
  },
  {
   "cell_type": "markdown",
   "id": "5c7e5033",
   "metadata": {},
   "source": [
    "След задание"
   ]
  },
  {
   "cell_type": "code",
   "execution_count": 26,
   "id": "85177df6",
   "metadata": {},
   "outputs": [],
   "source": [
    "import time\n",
    "\n",
    "class Loggable:\n",
    "    def log(self, msg):\n",
    "        print(str(time.ctime()) + \": \" + str(msg))"
   ]
  },
  {
   "cell_type": "code",
   "execution_count": 67,
   "id": "328ec774",
   "metadata": {},
   "outputs": [],
   "source": [
    "class LoggableList (list, Loggable):\n",
    "    def append(self, a):\n",
    "        super().append(a)\n",
    "        return self.log(a)"
   ]
  },
  {
   "cell_type": "markdown",
   "id": "00da4064",
   "metadata": {},
   "source": [
    "## Модуль 2"
   ]
  },
  {
   "cell_type": "markdown",
   "id": "7aaf00dd",
   "metadata": {},
   "source": [
    "Задача из 2.1."
   ]
  },
  {
   "cell_type": "code",
   "execution_count": null,
   "id": "9d1341d0",
   "metadata": {},
   "outputs": [],
   "source": [
    "parents = {}\n",
    "for _ in range(int(input())):\n",
    "    a = input().split()\n",
    "    parents[a[0]] = [] if len(a) == 1 else a[2:]\n",
    "\n",
    "def is_parent(child, parent):\n",
    "    if child == parent: return True\n",
    "    for p in parents[child]:\n",
    "        if is_parent(p, parent ): return True\n",
    "    return False\n",
    "\n",
    "exceptions = []\n",
    "for _ in range(int(input())):\n",
    "    a = input().strip()\n",
    "    for i in exceptions:\n",
    "        if is_parent(a,i):\n",
    "            print(a)\n",
    "            break\n",
    "    exceptions.append(a)"
   ]
  },
  {
   "cell_type": "markdown",
   "id": "7e922442",
   "metadata": {},
   "source": [
    "Another one"
   ]
  },
  {
   "cell_type": "code",
   "execution_count": 20,
   "id": "1652adb2",
   "metadata": {},
   "outputs": [],
   "source": [
    "class NonPositiveError(Exception):\n",
    "    pass\n",
    "\n",
    "class PositiveList(list):\n",
    "    def append(self, a):\n",
    "        if a <= 0:\n",
    "            self.pop()\n",
    "            raise NonPositiveError()\n",
    "        super().append(a)"
   ]
  },
  {
   "cell_type": "markdown",
   "id": "4a19a64b",
   "metadata": {},
   "source": [
    " задача Ильяса"
   ]
  },
  {
   "cell_type": "code",
   "execution_count": 28,
   "id": "8d5efc3d",
   "metadata": {},
   "outputs": [],
   "source": [
    "def fib(n):\n",
    "    a = 3\n",
    "    b = -2\n",
    "    for __ in range(n):\n",
    "        a, b = b, 4*a + 3*b + 24\n",
    "    return a"
   ]
  },
  {
   "cell_type": "markdown",
   "id": "26531eb2",
   "metadata": {},
   "source": [
    "# 2.2"
   ]
  },
  {
   "cell_type": "code",
   "execution_count": 2,
   "id": "eeef1dc7",
   "metadata": {},
   "outputs": [],
   "source": [
    "with open(\"encrypted.bin\", \"rb\") as inp:\n",
    "    encrypted = inp.read()"
   ]
  },
  {
   "cell_type": "code",
   "execution_count": 4,
   "id": "7e62e93c",
   "metadata": {},
   "outputs": [],
   "source": [
    "with open(\"passwords.txt\", \"r\") as ins:\n",
    "    a = ins.readlines()"
   ]
  },
  {
   "cell_type": "code",
   "execution_count": 5,
   "id": "f8bec9f8",
   "metadata": {},
   "outputs": [],
   "source": [
    "for i in range(len(a)):\n",
    "    a[i] = a[i][:-1]"
   ]
  },
  {
   "cell_type": "code",
   "execution_count": 15,
   "id": "59c4f581",
   "metadata": {},
   "outputs": [
    {
     "name": "stdout",
     "output_type": "stream",
     "text": [
      "new step\n",
      "new step\n",
      "new step\n",
      "new step\n",
      "b'Alice loves Bob'\n"
     ]
    }
   ],
   "source": [
    "n = 0\n",
    "while n < len(a):\n",
    "    try:\n",
    "        print(simplecrypt.decrypt(a[n], encrypted))\n",
    "        break\n",
    "    except:\n",
    "        n = n + 1\n",
    "        print('new step')"
   ]
  },
  {
   "cell_type": "markdown",
   "id": "c8623a3b",
   "metadata": {},
   "source": [
    "Мое решение"
   ]
  },
  {
   "cell_type": "code",
   "execution_count": 70,
   "id": "6923b1ce",
   "metadata": {},
   "outputs": [],
   "source": [
    "class multifilter:\n",
    "    def judge_half(pos, neg):\n",
    "        return pos >= neg\n",
    "        # допускает элемент, если его допускает хотя бы половина фукнций (pos >= neg)\n",
    "\n",
    "    def judge_any(pos, neg):\n",
    "        return pos >= 1\n",
    "        # допускает элемент, если его допускает хотя бы одна функция (pos >= 1)\n",
    "\n",
    "    def judge_all(pos, neg):\n",
    "        return neg == 0\n",
    "        # допускает элемент, если его допускают все функции (neg == 0)\n",
    "\n",
    "    def __init__(self, iterable, *funcs, judge=judge_any):\n",
    "        # iterable - исходная последовательность\n",
    "        self.iterable = iterable\n",
    "        # funcs - допускающие функции\n",
    "        self.funcs = funcs\n",
    "        # judge - решающая функция\n",
    "        self.judge = judge\n",
    "\n",
    "    def __iter__(self):\n",
    "        for i in self.iterable:\n",
    "            pos, neg = 0, 0\n",
    "            for j in self.funcs:\n",
    "                if j(i) == True:\n",
    "                    pos += 1\n",
    "                else:\n",
    "                    neg += 1\n",
    "            if self.judge (pos, neg) == True:\n",
    "                yield i\n",
    "        # возвращает итератор по результирующей последовательности"
   ]
  },
  {
   "cell_type": "markdown",
   "id": "0e1c633c",
   "metadata": {},
   "source": [
    " Решение правильное "
   ]
  },
  {
   "cell_type": "code",
   "execution_count": null,
   "id": "31d0e2f4",
   "metadata": {},
   "outputs": [],
   "source": [
    "class multifilter:\n",
    "    def judge_half(pos, neg):\n",
    "        return pos >= neg\n",
    "\n",
    "    def judge_any(pos, neg):\n",
    "        return pos > 0\n",
    "\n",
    "    def judge_all(pos, neg):\n",
    "        return neg == 0\n",
    "\n",
    "    def __init__(self, iterable, *funcs, judge=judge_any):\n",
    "        self.iterator = iter(iterable)\n",
    "        self.funcs = funcs\n",
    "        self.judge = judge\n",
    "\n",
    "    def __iter__(self):\n",
    "        return self\n",
    "\n",
    "    def __next__(self):\n",
    "        while (True):\n",
    "            elem = next(self.iterator)\n",
    "            pos, neg = 0, 0\n",
    "            for func in self.funcs:\n",
    "                if func(elem):\n",
    "                    pos += 1\n",
    "                else:\n",
    "                    neg += 1\n",
    "\n",
    "            if self.judge(pos, neg):\n",
    "                return elem"
   ]
  },
  {
   "cell_type": "markdown",
   "id": "70541e56",
   "metadata": {},
   "source": [
    "Мое решение"
   ]
  },
  {
   "cell_type": "code",
   "execution_count": 17,
   "id": "e1b5c165",
   "metadata": {},
   "outputs": [],
   "source": [
    "def primes():\n",
    "    iterable = 2\n",
    "    while True:\n",
    "        A = True\n",
    "        if iterable == 2:\n",
    "            yield iterable\n",
    "        else:\n",
    "            for i in range(2, (iterable//2)+1):\n",
    "                if iterable % i == 0:\n",
    "                    A = False\n",
    "            if A == True:\n",
    "                yield iterable\n",
    "        iterable += 1 "
   ]
  },
  {
   "cell_type": "markdown",
   "id": "e959a12a",
   "metadata": {},
   "source": [
    "решение со степика"
   ]
  },
  {
   "cell_type": "code",
   "execution_count": null,
   "id": "8dccbac5",
   "metadata": {},
   "outputs": [],
   "source": [
    "def primes():\n",
    "    i, f = 2, 1  # число и факториал предыдущего числа\n",
    "    while True:\n",
    "        if (f + 1) % i == 0:  # проверяем на простоту по теореме Вильсона через факториал\n",
    "            yield i\n",
    "        f, i = f * i, i + 1  # сначала пересчитываем факториал для текущего числа, затем увеличиваем число"
   ]
  },
  {
   "cell_type": "markdown",
   "id": "2a0879c4",
   "metadata": {},
   "source": [
    "# 2.4"
   ]
  },
  {
   "cell_type": "code",
   "execution_count": 53,
   "id": "54b42984",
   "metadata": {},
   "outputs": [],
   "source": [
    "with open(\"dataset_24465_4.txt\", \"r\") as r, open(\"module2_3_output.txt\", \"w\") as w:\n",
    "    a = []\n",
    "    for x in r:\n",
    "        x = x.strip()\n",
    "        a.append(x)\n",
    "    for line in a[::-1]:\n",
    "#         to_out = \"\\n\".join(line)\n",
    "        w.write(line)\n",
    "        w.write('\\n')"
   ]
  },
  {
   "cell_type": "markdown",
   "id": "3b5a4ea7",
   "metadata": {},
   "source": [
    "Решение из комментов"
   ]
  },
  {
   "cell_type": "code",
   "execution_count": null,
   "id": "aba93a69",
   "metadata": {},
   "outputs": [],
   "source": [
    "with open('dataset_24465_4.txt', 'r') as fr, open('dataset_24465_4_w.txt', 'w') as fw:\n",
    "    fw.writelines(fr.readlines()[::-1])"
   ]
  },
  {
   "cell_type": "markdown",
   "id": "06c68ac4",
   "metadata": {},
   "source": [
    "Еще задание"
   ]
  },
  {
   "cell_type": "code",
   "execution_count": 54,
   "id": "a1783d90",
   "metadata": {},
   "outputs": [],
   "source": [
    "import os"
   ]
  },
  {
   "cell_type": "code",
   "execution_count": 91,
   "id": "4d65166d",
   "metadata": {},
   "outputs": [],
   "source": [
    "full_list_dir = []\n",
    "for way, lst_dir, lst_files in os.walk(\".\\\\main\\\\main\"):\n",
    "    for files in lst_files:\n",
    "        if files[-3:] == '.py':\n",
    "            full_list_dir.append(way)\n",
    "full_list_dir = set(full_list_dir)\n",
    "full_list_dir = list(full_list_dir)\n",
    "with open(\"answer_mod_2_3.txt\", \"w\") as wr:\n",
    "    full_list_dir = sorted(full_list_dir)\n",
    "    for char in full_list_dir:\n",
    "        char = char[7:]\n",
    "        wr.write(char)\n",
    "        wr.write('\\n')"
   ]
  },
  {
   "cell_type": "markdown",
   "id": "71aa8459",
   "metadata": {},
   "source": [
    "Решение из комментов"
   ]
  },
  {
   "cell_type": "code",
   "execution_count": null,
   "id": "2ee6552f",
   "metadata": {},
   "outputs": [],
   "source": [
    "import os\n",
    "\n",
    "result = [cur_dir for cur_dir, dirs, files in os.walk(\"main\") if any((fl.endswith(\".py\")\n",
    "    for fl in files))]\n",
    "\n",
    "with open(\"py_dirs.txt\", \"w\") as w:\n",
    "    w.write(\"\\n\".join(sorted(result)))"
   ]
  },
  {
   "cell_type": "markdown",
   "id": "3dbf927d",
   "metadata": {},
   "source": [
    "## Модуль 3"
   ]
  },
  {
   "cell_type": "markdown",
   "id": "1d9cd52a",
   "metadata": {},
   "source": [
    "# 3.1"
   ]
  },
  {
   "cell_type": "markdown",
   "id": "87a910ac",
   "metadata": {},
   "source": [
    "Мое решение"
   ]
  },
  {
   "cell_type": "code",
   "execution_count": null,
   "id": "ce7ee2ad",
   "metadata": {},
   "outputs": [],
   "source": [
    "s, a, b = input(), input(), input()\n",
    "n = 0\n",
    "while n < 1000:\n",
    "    if s.find(a) == -1:\n",
    "        break\n",
    "    s = s.replace(a, b)\n",
    "    n += 1\n",
    "if s.find(a) != -1:\n",
    "    print ('Impossible')\n",
    "else:\n",
    "    print(n)"
   ]
  },
  {
   "cell_type": "markdown",
   "id": "3811af16",
   "metadata": {},
   "source": [
    "Решение из комментов"
   ]
  },
  {
   "cell_type": "code",
   "execution_count": null,
   "id": "6d94f277",
   "metadata": {},
   "outputs": [],
   "source": [
    "s = input()\n",
    "a = input()\n",
    "b = input()\n",
    "\n",
    "if a not in s:\n",
    "    print(0)\n",
    "elif a in b:\n",
    "    print(\"Impossible\")\n",
    "else:\n",
    "    ans = 0\n",
    "    while a in s:\n",
    "        s = s.replace(a, b)\n",
    "        ans += 1\n",
    "\n",
    "    print(ans)"
   ]
  },
  {
   "cell_type": "markdown",
   "id": "0e620cfd",
   "metadata": {},
   "source": [
    "Другая задача (мой вариант)"
   ]
  },
  {
   "cell_type": "code",
   "execution_count": null,
   "id": "33686489",
   "metadata": {},
   "outputs": [],
   "source": [
    "s = input()\n",
    "a = input()\n",
    "n = 0\n",
    "counter = 0\n",
    "while n < len(s):\n",
    "    if s.find(a, n) != -1:\n",
    "        if s.startswith(a, n) == True:\n",
    "            counter += 1\n",
    "        n += 1\n",
    "    else:\n",
    "        break\n",
    "print(counter)"
   ]
  },
  {
   "cell_type": "markdown",
   "id": "bdc527a7",
   "metadata": {},
   "source": [
    "Решение из комментов"
   ]
  },
  {
   "cell_type": "code",
   "execution_count": null,
   "id": "5ea875ac",
   "metadata": {},
   "outputs": [],
   "source": [
    "s = input()\n",
    "t = input()\n",
    "ans = 0\n",
    "for i in range(len(s)):\n",
    "    if s[i:].startswith(t):\n",
    "        ans += 1\n",
    "\n",
    "print(ans)"
   ]
  },
  {
   "cell_type": "code",
   "execution_count": null,
   "id": "d670ebaa",
   "metadata": {},
   "outputs": [],
   "source": [
    "s = input()\n",
    "t = input()\n",
    "\n",
    "print(sum(1 for i in range(len(s)) if s.startswith(t, i)))"
   ]
  },
  {
   "cell_type": "markdown",
   "id": "0dea01e9",
   "metadata": {},
   "source": [
    "# 3.2"
   ]
  },
  {
   "cell_type": "code",
   "execution_count": null,
   "id": "443bc869",
   "metadata": {},
   "outputs": [],
   "source": []
  },
  {
   "cell_type": "markdown",
   "id": "c852d65d",
   "metadata": {},
   "source": [
    "# Интернет-запросы"
   ]
  },
  {
   "cell_type": "markdown",
   "id": "daa4b424",
   "metadata": {},
   "source": [
    "## 3.3"
   ]
  },
  {
   "cell_type": "code",
   "execution_count": 1,
   "id": "dc27411c",
   "metadata": {},
   "outputs": [
    {
     "name": "stdout",
     "output_type": "stream",
     "text": [
      "Requirement already satisfied: requests in c:\\programdata\\miniconda3\\lib\\site-packages (2.28.1)\n",
      "Requirement already satisfied: urllib3<1.27,>=1.21.1 in c:\\programdata\\miniconda3\\lib\\site-packages (from requests) (1.26.12)\n",
      "Requirement already satisfied: certifi>=2017.4.17 in c:\\programdata\\miniconda3\\lib\\site-packages (from requests) (2022.9.24)\n",
      "Requirement already satisfied: idna<4,>=2.5 in c:\\programdata\\miniconda3\\lib\\site-packages (from requests) (3.4)\n",
      "Requirement already satisfied: charset-normalizer<3,>=2 in c:\\programdata\\miniconda3\\lib\\site-packages (from requests) (2.0.4)\n",
      "Note: you may need to restart the kernel to use updated packages.\n"
     ]
    }
   ],
   "source": [
    "pip install requests"
   ]
  },
  {
   "cell_type": "code",
   "execution_count": 1,
   "id": "a12aa1fa",
   "metadata": {},
   "outputs": [],
   "source": [
    "import re\n",
    "import requests"
   ]
  },
  {
   "cell_type": "code",
   "execution_count": 60,
   "id": "86b78907",
   "metadata": {},
   "outputs": [
    {
     "name": "stdout",
     "output_type": "stream",
     "text": [
      "https://stepik.org/media/attachments/lesson/24472/sample0.html\n",
      "https://stepik.org/media/attachments/lesson/24472/sample2.html\n",
      "No\n"
     ]
    }
   ],
   "source": [
    "links = [input().split() for i in range(2)]\n",
    "res = requests.get(links[0][0])\n",
    "a_links = re.findall(r'<a href=\".+/a>', res.text)\n",
    "for link in a_links:\n",
    "    link = re.sub(r\"(<a href=\\\")(.+)(\\\">\\d+</a>)\", r\"\\2\", link)\n",
    "    res2 =  requests.get(link)\n",
    "    b_links = re.findall(r'<a href=\".+/a>', res2.text)\n",
    "    for k in b_links:\n",
    "        k = re.sub(r\"(<a href=\\\")(.+)(\\\">\\d+</a>)\", r\"\\2\", k)\n",
    "        if links[1][0] == k:\n",
    "            print(\"Yes\")\n",
    "print(\"No\")"
   ]
  },
  {
   "cell_type": "code",
   "execution_count": 36,
   "id": "0918579f",
   "metadata": {},
   "outputs": [
    {
     "data": {
      "text/plain": [
       "'https://stepik.org/media/attachments/lesson/24472/sample2.html'"
      ]
     },
     "execution_count": 36,
     "metadata": {},
     "output_type": "execute_result"
    }
   ],
   "source": [
    "links[1][0]"
   ]
  },
  {
   "cell_type": "code",
   "execution_count": 26,
   "id": "9dd24e04",
   "metadata": {},
   "outputs": [],
   "source": [
    "res = requests.get(links[0][0])"
   ]
  },
  {
   "cell_type": "code",
   "execution_count": 12,
   "id": "bdb6f413",
   "metadata": {},
   "outputs": [
    {
     "name": "stdout",
     "output_type": "stream",
     "text": [
      "http://pastebin.com/raw/hfMThaGb\n",
      "<a href=\"bya-2.ru\">\n",
      "<a href=\"bya.ru\">\n",
      "<a href=\"www.kya.ru\">\n",
      "ftp//www.masdaya.ru\">\n",
      "ftp//www.mya-2.ru\">\n",
      "http//www.ya-2.ru\">\n",
      "http//www.ya.ru\">\n",
      "https//stepic-2.org'>\n",
      "https//stepic.org'>\n",
      "https//www.ya-2.ru\">\n",
      "https//www.ya.ru\">\n",
      "neerc.ifmo-2.ru1345'>\n",
      "neerc.ifmo.ru1345'>\n",
      "steeeeeeepic.orgcourses\">\n",
      "stepic-2.orgcourses\">\n",
      "stepic.orgcourses\">\n",
      "www.gtu.edu-2.geindex_e.htm\" target=\"_top\">\n",
      "www.gtu.edu.geindex_e.htm\" target=\"_top\">\n"
     ]
    }
   ],
   "source": [
    "import re\n",
    "import requests\n",
    "\n",
    "main_link = input()\n",
    "res = requests.get(main_link)\n",
    "list_links = re.findall(r'<a href=[\\'\\\"].+[\\'\\\"]>', res.text)\n",
    "# pattern = r\"<a.*href=[\\'\\\"]([a-z]:*//)?([\\w\\-\\.]*)([/:])\"\n",
    "pattern = r\"<a.*href=[\\'\\\"](.+//)?([\\w\\-\\.]*)([/:])\"\n",
    "answer = []\n",
    "for link in list_links:\n",
    "    answer.append(re.sub(pattern, r\"\\2\",link))\n",
    "for i in answer:\n",
    "    if i[0:2] == \"..\":\n",
    "        answer.remove(i)\n",
    "answer = list(set(answer))\n",
    "for j in sorted(answer):\n",
    "    print(j)"
   ]
  },
  {
   "cell_type": "markdown",
   "id": "56293dca",
   "metadata": {},
   "source": [
    "## 3.4"
   ]
  },
  {
   "cell_type": "code",
   "execution_count": 54,
   "id": "277ae7bb",
   "metadata": {},
   "outputs": [],
   "source": [
    "import csv\n",
    "import pandas as pd"
   ]
  },
  {
   "cell_type": "code",
   "execution_count": 46,
   "id": "b4c3ef53",
   "metadata": {},
   "outputs": [],
   "source": [
    "crimes_list = []\n",
    "with open(\"C:/Users/Алексей Корнейчук/Documents/anaconda/ds_course_brunoyam/data/Crimes.csv\", 'r') as f:\n",
    "    reader = csv.DictReader(f)\n",
    "#     for row in reader:\n",
    "#         crimes_list.append([row[2]),row[5]])"
   ]
  },
  {
   "cell_type": "code",
   "execution_count": 52,
   "id": "f0102b41",
   "metadata": {},
   "outputs": [
    {
     "data": {
      "text/plain": [
       "csv.DictReader"
      ]
     },
     "execution_count": 52,
     "metadata": {},
     "output_type": "execute_result"
    }
   ],
   "source": [
    "type(reader)"
   ]
  },
  {
   "cell_type": "code",
   "execution_count": 55,
   "id": "17e7a559",
   "metadata": {},
   "outputs": [],
   "source": [
    "crimes_df = pd.read_csv(\"C:/Users/Алексей Корнейчук/Documents/anaconda/ds_course_brunoyam/data/Crimes.csv\")"
   ]
  },
  {
   "cell_type": "code",
   "execution_count": 59,
   "id": "d76fbc3a",
   "metadata": {},
   "outputs": [],
   "source": [
    "crimes_df['new_date'] = crimes_df['Date'].apply(pd.to_datetime)"
   ]
  },
  {
   "cell_type": "code",
   "execution_count": 66,
   "id": "a9849acc",
   "metadata": {},
   "outputs": [
    {
     "data": {
      "text/plain": [
       "Primary Type\n",
       "ARSON                                 3\n",
       "ASSAULT                             175\n",
       "BATTERY                             473\n",
       "BURGLARY                            132\n",
       "CRIM SEXUAL ASSAULT                  17\n",
       "CRIMINAL DAMAGE                     297\n",
       "CRIMINAL TRESPASS                    64\n",
       "DECEPTIVE PRACTICE                  140\n",
       "GAMBLING                              2\n",
       "HOMICIDE                              5\n",
       "INTERFERENCE WITH PUBLIC OFFICER     13\n",
       "INTIMIDATION                          2\n",
       "KIDNAPPING                            2\n",
       "LIQUOR LAW VIOLATION                  4\n",
       "MOTOR VEHICLE THEFT                 123\n",
       "NARCOTICS                           254\n",
       "OFFENSE INVOLVING CHILDREN           18\n",
       "OTHER OFFENSE                       179\n",
       "PROSTITUTION                         14\n",
       "PUBLIC PEACE VIOLATION               28\n",
       "ROBBERY                              88\n",
       "SEX OFFENSE                           9\n",
       "STALKING                              2\n",
       "THEFT                               596\n",
       "WEAPONS VIOLATION                    28\n",
       "Name: ID, dtype: int64"
      ]
     },
     "execution_count": 66,
     "metadata": {},
     "output_type": "execute_result"
    }
   ],
   "source": [
    "crimes_df[crimes_df['new_date'].dt.year == 2015].groupby('Primary Type').count()['ID']"
   ]
  },
  {
   "cell_type": "markdown",
   "id": "df8b45a4",
   "metadata": {},
   "source": [
    "## JSON из комментов"
   ]
  },
  {
   "cell_type": "code",
   "execution_count": null,
   "id": "6ae1dafb",
   "metadata": {},
   "outputs": [],
   "source": [
    "import json\n",
    "\n",
    "data = json.loads(input())\n",
    "children = dict()\n",
    "\n",
    "for cls in data:\n",
    "    for par in cls[\"parents\"]:\n",
    "        if par not in children:\n",
    "            children[par] = []\n",
    "        children[par].append(cls[\"name\"])\n",
    "\n",
    "def dfs(v, used):\n",
    "    size = 1\n",
    "    used.add(v)\n",
    "    if v not in children:\n",
    "        return size\n",
    "\n",
    "    for child in children[v]:\n",
    "        if child not in used:\n",
    "            size += dfs(child, used)\n",
    "\n",
    "    return size\n",
    "\n",
    "ans = []\n",
    "\n",
    "for cls in data:\n",
    "    ans.append((cls[\"name\"], dfs(cls[\"name\"], set())))\n",
    "\n",
    "for i in sorted(ans):\n",
    "    print(i[0], \":\", i[1])"
   ]
  },
  {
   "cell_type": "markdown",
   "id": "073e1a7a",
   "metadata": {},
   "source": [
    "# 3.5"
   ]
  },
  {
   "cell_type": "code",
   "execution_count": 118,
   "id": "c48641c6",
   "metadata": {},
   "outputs": [
    {
     "name": "stdout",
     "output_type": "stream",
     "text": [
      "Interesting\n",
      "Boring\n",
      "Boring\n",
      "Interesting\n",
      "Interesting\n",
      "Interesting\n",
      "Interesting\n",
      "Interesting\n",
      "Boring\n",
      "Interesting\n",
      "Boring\n",
      "Interesting\n",
      "Interesting\n",
      "Interesting\n",
      "Interesting\n"
     ]
    }
   ],
   "source": [
    "import requests\n",
    "\n",
    "numbers = []\n",
    "\n",
    "with open ('C:/Users/Алексей Корнейчук/Documents/anaconda/dataset_24476_3.txt', 'r') as f:\n",
    "    lines = [line.rstrip() for line in f]\n",
    "    for line in lines:\n",
    "        numbers.append(int(line))\n",
    "\n",
    "for j in numbers:           \n",
    "    res = requests.get(f\"http://numbersapi.com/{j}/math?json=true\")\n",
    "    data = res.json()\n",
    "    print ('Boring' if data['found'] == False else 'Interesting')"
   ]
  },
  {
   "cell_type": "code",
   "execution_count": 119,
   "id": "06f8e1ab",
   "metadata": {},
   "outputs": [],
   "source": [
    "import requests\n",
    "import json\n",
    "\n",
    "client_id = 'b9d175e0f12806265d66'\n",
    "client_secret = 'cb5de1918dc972936d6ea2870da55f0a'\n",
    "\n",
    "# инициируем запрос на получение токена\n",
    "r = requests.post(\"https://api.artsy.net/api/tokens/xapp_token\",\n",
    "                  data={\n",
    "                      \"client_id\": client_id,\n",
    "                      \"client_secret\": client_secret\n",
    "                  })\n",
    "\n",
    "# разбираем ответ сервера\n",
    "j = json.loads(r.text)\n",
    "\n",
    "# достаем токен\n",
    "token = j[\"token\"]"
   ]
  },
  {
   "cell_type": "code",
   "execution_count": 121,
   "id": "91db9f0f",
   "metadata": {},
   "outputs": [],
   "source": [
    "# создаем заголовок, содержащий наш токен\n",
    "headers = {\"X-Xapp-Token\" : token}\n",
    "# инициируем запрос с заголовком\n",
    "r = requests.get(\"https://api.artsy.net/api/artists/4d8b92b34eb68a1b2c0003f4\", headers=headers)\n",
    "\n",
    "# разбираем ответ сервера\n",
    "j = json.loads(r.text)"
   ]
  },
  {
   "cell_type": "code",
   "execution_count": 122,
   "id": "5d3df052",
   "metadata": {},
   "outputs": [
    {
     "data": {
      "text/plain": [
       "{'id': '4d8b92b34eb68a1b2c0003f4',\n",
       " 'slug': 'andy-warhol',\n",
       " 'created_at': '2010-08-23T14:15:30+00:00',\n",
       " 'updated_at': '2023-03-12T10:42:07+00:00',\n",
       " 'name': 'Andy Warhol',\n",
       " 'sortable_name': 'Warhol Andy',\n",
       " 'gender': 'male',\n",
       " 'biography': 'An American painter, printmaker, sculptor, draughtsman, illustrator, filmmaker, writer and collector, who became one of the most famous artists of the 20th century. Warhol began his career as a successful commercial artist and illustrator for magazines and newspapers but by 1960 was determined to establish his name as a painter. He quickly became renowned for painting everyday advertisements or images from comic strips that looked eerily similar to the originals and contained no traditional marks of an artist. Warhol accentuated this look through the use of silkscreens and by painting in collaboration with a team of assistants in a studio he called \"The Factory.\" In the late sixties, Warhol turned his attention to making experimental films and multimedia events, and in the 1970s, to creating commissioned portraits. During the 1980s Warhol continued to exert an influence on the art world, collaborating with young artists such as Jean-Michel Basquiat and creating a series of paintings, which engaged with Renaissance masterworks.',\n",
       " 'birthday': '1928',\n",
       " 'deathday': '1987',\n",
       " 'hometown': 'Pittsburgh, PA, USA',\n",
       " 'location': 'New York, NY, USA',\n",
       " 'nationality': 'American',\n",
       " 'target_supply': True,\n",
       " 'image_versions': ['four_thirds', 'large', 'square', 'tall'],\n",
       " '_links': {'thumbnail': {'href': 'https://d32dm0rphc51dk.cloudfront.net/E-k-uLoQADM8AjadsSKHrA/four_thirds.jpg'},\n",
       "  'image': {'href': 'https://d32dm0rphc51dk.cloudfront.net/E-k-uLoQADM8AjadsSKHrA/{image_version}.jpg',\n",
       "   'templated': True},\n",
       "  'self': {'href': 'https://api.artsy.net/api/artists/4d8b92b34eb68a1b2c0003f4'},\n",
       "  'permalink': {'href': 'https://www.artsy.net/artist/andy-warhol'},\n",
       "  'artworks': {'href': 'https://api.artsy.net/api/artworks?artist_id=4d8b92b34eb68a1b2c0003f4'},\n",
       "  'published_artworks': {'href': 'https://api.artsy.net/api/artworks?artist_id=4d8b92b34eb68a1b2c0003f4&published=true'},\n",
       "  'similar_artists': {'href': 'https://api.artsy.net/api/artists?similar_to_artist_id=4d8b92b34eb68a1b2c0003f4'},\n",
       "  'similar_contemporary_artists': {'href': 'https://api.artsy.net/api/artists?similar_to_artist_id=4d8b92b34eb68a1b2c0003f4&similarity_type=contemporary'},\n",
       "  'genes': {'href': 'https://api.artsy.net/api/genes?artist_id=4d8b92b34eb68a1b2c0003f4'}}}"
      ]
     },
     "execution_count": 122,
     "metadata": {},
     "output_type": "execute_result"
    }
   ],
   "source": [
    "j"
   ]
  },
  {
   "cell_type": "code",
   "execution_count": 142,
   "id": "e37aa4d0",
   "metadata": {},
   "outputs": [
    {
     "name": "stdout",
     "output_type": "stream",
     "text": [
      "Abbott Lemuel Francis\n",
      "Adam Albrecht\n",
      "Abastenia St. Leger Eberle\n",
      "Abbe James\n",
      "Aalto Alvar\n",
      "Abelard Gesner\n",
      "Aarnio Eero\n",
      "Aarsman Hans\n",
      "Aberle Christian\n",
      "Abelow Joshua\n",
      "Ackerman Fiona\n",
      "Aaron Flint Jamison\n",
      "Abrahams Johnny\n",
      "Abney Nina Chanel\n",
      "Aceto Alfredo\n"
     ]
    }
   ],
   "source": [
    "import requests\n",
    "\n",
    "answ_dict = {}\n",
    "\n",
    "with open ('C:/Users/Алексей Корнейчук/Documents/anaconda/dataset_24476_4.txt', 'r') as f:\n",
    "    lines = [line.rstrip() for line in f]\n",
    "for j in lines:           \n",
    "    res = requests.get(f\"https://api.artsy.net/api/artists/{j}\", headers=headers)\n",
    "    data = res.json()\n",
    "    answ_dict[data['sortable_name']] = data['birthday']\n",
    "for i in sorted(answ_dict.items(), key=lambda x: (x[1], x[0])):\n",
    "    print (i[0])"
   ]
  },
  {
   "cell_type": "code",
   "execution_count": null,
   "id": "03b5eb27",
   "metadata": {},
   "outputs": [],
   "source": []
  }
 ],
 "metadata": {
  "kernelspec": {
   "display_name": "Python 3 (ipykernel)",
   "language": "python",
   "name": "python3"
  },
  "language_info": {
   "codemirror_mode": {
    "name": "ipython",
    "version": 3
   },
   "file_extension": ".py",
   "mimetype": "text/x-python",
   "name": "python",
   "nbconvert_exporter": "python",
   "pygments_lexer": "ipython3",
   "version": "3.9.15"
  }
 },
 "nbformat": 4,
 "nbformat_minor": 5
}
