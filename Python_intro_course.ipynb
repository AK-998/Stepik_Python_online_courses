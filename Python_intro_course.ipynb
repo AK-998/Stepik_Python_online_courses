{
 "cells": [
  {
   "cell_type": "code",
   "execution_count": 2,
   "id": "6d35a23f",
   "metadata": {},
   "outputs": [
    {
     "data": {
      "text/plain": [
       "12345554321"
      ]
     },
     "execution_count": 2,
     "metadata": {},
     "output_type": "execute_result"
    }
   ],
   "source": [
    "11111*1111111"
   ]
  },
  {
   "cell_type": "code",
   "execution_count": 3,
   "id": "18f07034",
   "metadata": {
    "scrolled": true
   },
   "outputs": [
    {
     "ename": "ZeroDivisionError",
     "evalue": "division by zero",
     "output_type": "error",
     "traceback": [
      "\u001b[1;31m---------------------------------------------------------------------------\u001b[0m",
      "\u001b[1;31mZeroDivisionError\u001b[0m                         Traceback (most recent call last)",
      "\u001b[1;32m~\\AppData\\Local\\Temp\\ipykernel_20912\\3786145049.py\u001b[0m in \u001b[0;36m<module>\u001b[1;34m\u001b[0m\n\u001b[1;32m----> 1\u001b[1;33m \u001b[1;36m42\u001b[0m\u001b[1;33m/\u001b[0m\u001b[1;33m(\u001b[0m\u001b[1;36m4\u001b[0m\u001b[1;33m+\u001b[0m\u001b[1;36m2\u001b[0m\u001b[1;33m*\u001b[0m\u001b[1;33m(\u001b[0m\u001b[1;33m-\u001b[0m\u001b[1;36m2\u001b[0m\u001b[1;33m)\u001b[0m\u001b[1;33m)\u001b[0m\u001b[1;33m\u001b[0m\u001b[1;33m\u001b[0m\u001b[0m\n\u001b[0m",
      "\u001b[1;31mZeroDivisionError\u001b[0m: division by zero"
     ]
    }
   ],
   "source": [
    "42/(4+2*(-2))"
   ]
  },
  {
   "cell_type": "code",
   "execution_count": 5,
   "id": "57b97e20",
   "metadata": {},
   "outputs": [
    {
     "data": {
      "text/plain": [
       "18064773765607550801425251468864907833685590016"
      ]
     },
     "execution_count": 5,
     "metadata": {},
     "output_type": "execute_result"
    }
   ],
   "source": [
    "2014 ** 14"
   ]
  },
  {
   "cell_type": "code",
   "execution_count": 1,
   "id": "5b3fe30d",
   "metadata": {},
   "outputs": [
    {
     "data": {
      "text/plain": [
       "1.806477376560755e+46"
      ]
     },
     "execution_count": 1,
     "metadata": {},
     "output_type": "execute_result"
    }
   ],
   "source": [
    "2014.0**14"
   ]
  },
  {
   "cell_type": "code",
   "execution_count": 2,
   "id": "8d08a46d",
   "metadata": {},
   "outputs": [
    {
     "data": {
      "text/plain": [
       "2.3333333333333335"
      ]
     },
     "execution_count": 2,
     "metadata": {},
     "output_type": "execute_result"
    }
   ],
   "source": [
    "7/3"
   ]
  },
  {
   "cell_type": "code",
   "execution_count": 3,
   "id": "21416b65",
   "metadata": {},
   "outputs": [
    {
     "data": {
      "text/plain": [
       "2"
      ]
     },
     "execution_count": 3,
     "metadata": {},
     "output_type": "execute_result"
    }
   ],
   "source": [
    "int(2.99)"
   ]
  },
  {
   "cell_type": "code",
   "execution_count": 4,
   "id": "0e0a9989",
   "metadata": {},
   "outputs": [
    {
     "data": {
      "text/plain": [
       "-1"
      ]
     },
     "execution_count": 4,
     "metadata": {},
     "output_type": "execute_result"
    }
   ],
   "source": [
    "int(-1.6)"
   ]
  },
  {
   "cell_type": "code",
   "execution_count": 5,
   "id": "99711341",
   "metadata": {},
   "outputs": [
    {
     "data": {
      "text/plain": [
       "89"
      ]
     },
     "execution_count": 5,
     "metadata": {},
     "output_type": "execute_result"
    }
   ],
   "source": [
    "9**19 - int(float(9**19))"
   ]
  },
  {
   "cell_type": "code",
   "execution_count": 7,
   "id": "ab099788",
   "metadata": {},
   "outputs": [
    {
     "data": {
      "text/plain": [
       "True"
      ]
     },
     "execution_count": 7,
     "metadata": {},
     "output_type": "execute_result"
    }
   ],
   "source": [
    "x = 5\n",
    "y = 10\n",
    "y > x * x or y >= 2 * x and x < y"
   ]
  },
  {
   "cell_type": "code",
   "execution_count": 8,
   "id": "7069dab6",
   "metadata": {},
   "outputs": [
    {
     "data": {
      "text/plain": [
       "False"
      ]
     },
     "execution_count": 8,
     "metadata": {},
     "output_type": "execute_result"
    }
   ],
   "source": [
    "a = True\n",
    "b = False\n",
    "a and b or not a and not b"
   ]
  },
  {
   "cell_type": "code",
   "execution_count": null,
   "id": "6e91a9e7",
   "metadata": {},
   "outputs": [],
   "source": [
    "a = int(input())\n",
    "b = int(input())\n",
    "oper = input()\n",
    "if oper == 'mod' and b==0:\n",
    "    print ('Деление на 0!')\n",
    "elif oper == '/' and b==0:\n",
    "    print ('Деление на 0!')\n",
    "elif oper == 'div' and b==0:\n",
    "    print ('Деление на 0!')\n",
    "elif oper == 'mod':\n",
    "    print (a%b)\n",
    "elif oper == 'div':\n",
    "    print (a//b)\n",
    "elif oper == '/':\n",
    "    print (a/b)\n",
    "elif oper == 'pow':\n",
    "    print (a**b)\n",
    "elif oper == '*':\n",
    "    print (a*b)\n",
    "elif oper == '-':\n",
    "    print (a-b)\n",
    "else:\n",
    "    print(a+b)"
   ]
  },
  {
   "cell_type": "code",
   "execution_count": 5,
   "id": "30d2c035",
   "metadata": {},
   "outputs": [
    {
     "name": "stdout",
     "output_type": "stream",
     "text": [
      "0\n",
      "0\n"
     ]
    }
   ],
   "source": [
    "q = 0\n",
    "a = int(input())\n",
    "while a != 0:\n",
    "    q += a\n",
    "    a = int(input())\n",
    "print(q)"
   ]
  },
  {
   "cell_type": "code",
   "execution_count": 34,
   "id": "783f8750",
   "metadata": {},
   "outputs": [
    {
     "name": "stdout",
     "output_type": "stream",
     "text": [
      "4\n",
      "16\n",
      "64\n"
     ]
    }
   ],
   "source": [
    "a = int(input())\n",
    "b = int(input())\n",
    "if a>=b:\n",
    "    max, min = a, b\n",
    "else:\n",
    "    max, min = b, a\n",
    "q1 = max\n",
    "q2 = min\n",
    "r = 0.2\n",
    "while r > 0:\n",
    "    q = q1//q2\n",
    "    r = q1%q2\n",
    "    q1 = q2\n",
    "    q2 = r\n",
    "    if r != 0:\n",
    "        temp = r\n",
    "print (a*b if temp == 1 else (a//temp)*(b//temp)*temp)"
   ]
  },
  {
   "cell_type": "code",
   "execution_count": 60,
   "id": "44b35c0a",
   "metadata": {},
   "outputs": [
    {
     "name": "stdout",
     "output_type": "stream",
     "text": [
      "1071\n",
      "462\n",
      "23562\n"
     ]
    }
   ],
   "source": [
    "a = int(input())\n",
    "b = int(input())\n",
    "if a>=b:\n",
    "    max, min = a, b\n",
    "else:\n",
    "    max, min = b, a\n",
    "q1 = max\n",
    "q2 = min\n",
    "r = q1%q2\n",
    "temp = 1\n",
    "while r:\n",
    "    q = q1//q2\n",
    "    r = q1%q2\n",
    "    q1 = q2\n",
    "    if r > 0:\n",
    "        q2 = r\n",
    "print ((a//q2)*(b//q2)*q2)"
   ]
  },
  {
   "cell_type": "code",
   "execution_count": 54,
   "id": "178686ce",
   "metadata": {},
   "outputs": [
    {
     "name": "stdout",
     "output_type": "stream",
     "text": [
      "4\n"
     ]
    }
   ],
   "source": [
    "print (q2)"
   ]
  },
  {
   "cell_type": "code",
   "execution_count": 45,
   "id": "7c9fd058",
   "metadata": {},
   "outputs": [
    {
     "name": "stdout",
     "output_type": "stream",
     "text": [
      "1\n"
     ]
    }
   ],
   "source": [
    "print(temp)"
   ]
  },
  {
   "cell_type": "code",
   "execution_count": 55,
   "id": "a767e05f",
   "metadata": {},
   "outputs": [
    {
     "name": "stdout",
     "output_type": "stream",
     "text": [
      "16\n"
     ]
    }
   ],
   "source": [
    "print ((a//q2)*(b//q2)*q2)"
   ]
  },
  {
   "cell_type": "code",
   "execution_count": 47,
   "id": "6d224a0b",
   "metadata": {},
   "outputs": [
    {
     "name": "stdout",
     "output_type": "stream",
     "text": [
      "0\n"
     ]
    }
   ],
   "source": [
    "print(r)"
   ]
  },
  {
   "cell_type": "code",
   "execution_count": 58,
   "id": "567db97e",
   "metadata": {},
   "outputs": [
    {
     "data": {
      "text/plain": [
       "23562"
      ]
     },
     "execution_count": 58,
     "metadata": {},
     "output_type": "execute_result"
    }
   ],
   "source": [
    "(1071//21)*(462//21)*21"
   ]
  },
  {
   "cell_type": "code",
   "execution_count": 59,
   "id": "6836d4a3",
   "metadata": {},
   "outputs": [
    {
     "name": "stdout",
     "output_type": "stream",
     "text": [
      "1071\n",
      "462\n",
      "23562\n"
     ]
    }
   ],
   "source": [
    "a = int(input())\n",
    "b = int(input())\n",
    "\n",
    "if   a > b:\n",
    "      p = a\n",
    "      while p % b != 0: p += a\n",
    "\n",
    "elif a < b:\n",
    "      p = b\n",
    "      while p % a != 0: p += b\n",
    "\n",
    "else: p = a\n",
    "\n",
    "print (p)"
   ]
  },
  {
   "cell_type": "code",
   "execution_count": 61,
   "id": "273b17b4",
   "metadata": {},
   "outputs": [],
   "source": [
    "i = 0\n",
    "s = 0\n",
    "while i < 10:\n",
    "    i = i + 1\n",
    "    s = s + i\n",
    "    if s > 15:\n",
    "        break\n",
    "    i = i + 1"
   ]
  },
  {
   "cell_type": "code",
   "execution_count": 62,
   "id": "c7b6ceef",
   "metadata": {},
   "outputs": [
    {
     "name": "stdout",
     "output_type": "stream",
     "text": [
      "7\n"
     ]
    }
   ],
   "source": [
    "print(i)"
   ]
  },
  {
   "cell_type": "code",
   "execution_count": 66,
   "id": "362029e0",
   "metadata": {},
   "outputs": [
    {
     "name": "stdout",
     "output_type": "stream",
     "text": [
      "13\n",
      "13\n",
      "2\n",
      "42\n",
      "42\n",
      "1002\n",
      "1002\n"
     ]
    }
   ],
   "source": [
    "i = 1\n",
    "while i<= 100:\n",
    "    i = int(input())\n",
    "    if i < 10:\n",
    "        continue\n",
    "    if i > 100:\n",
    "        break\n",
    "    print(i)"
   ]
  },
  {
   "cell_type": "code",
   "execution_count": null,
   "id": "1e95140b",
   "metadata": {},
   "outputs": [],
   "source": [
    "while True:\n",
    "    number = int(input())\n",
    "    if number >100:\n",
    "        break\n",
    "    if number <10:\n",
    "        continue\n",
    "    print(number)"
   ]
  },
  {
   "cell_type": "code",
   "execution_count": 67,
   "id": "2aff8000",
   "metadata": {},
   "outputs": [
    {
     "name": "stdout",
     "output_type": "stream",
     "text": [
      "7\n",
      "10\n",
      "5\n",
      "6\n",
      "\t\n",
      "5\t7\t35\t8\t40\t9\t45\t10\t50\t\n",
      "6\t7\t42\t8\t48\t9\t54\t10\t60\t\n"
     ]
    }
   ],
   "source": [
    "a = int(input())\n",
    "b = int(input())\n",
    "c = int(input())\n",
    "d = int(input())\n",
    "print ('\\t')\n",
    "for i in range(c,d+1):\n",
    "    print (i,end='\\t')\n",
    "    for  j in range (a,b+1):\n",
    "        print(j, end='\\t')\n",
    "        print (i*j, end='\\t')\n",
    "    print()"
   ]
  },
  {
   "cell_type": "code",
   "execution_count": 72,
   "id": "cf0dee1c",
   "metadata": {},
   "outputs": [
    {
     "name": "stdout",
     "output_type": "stream",
     "text": [
      "7\n",
      "10\n",
      "5\n",
      "6\n",
      "\t5\t7\t\n",
      "35\t\n",
      "40\t\n",
      "45\t\n",
      "50\t6\t7\t\n",
      "42\t\n",
      "48\t\n",
      "54\t\n",
      "60\t"
     ]
    }
   ],
   "source": [
    "a = int(input())\n",
    "b = int(input())\n",
    "c = int(input())\n",
    "d = int(input())\n",
    "print ('',end='\\t')\n",
    "for i in range(c,d+1):\n",
    "    print (i,end='\\t')\n",
    "    print (a, end='\\t')\n",
    "    for  j in range (a,b+1):\n",
    "        print ()\n",
    "        print (i*j, end='\\t')"
   ]
  },
  {
   "cell_type": "code",
   "execution_count": 106,
   "id": "76146c68",
   "metadata": {},
   "outputs": [
    {
     "name": "stdout",
     "output_type": "stream",
     "text": [
      "7\n",
      "10\n",
      "5\n",
      "6\n",
      "\t5\t6\t\n",
      "7\t35\t42\t\n",
      "8\t40\t48\t\n",
      "9\t45\t54\t\n",
      "10\t50\t60\t"
     ]
    }
   ],
   "source": [
    "a = int(input())\n",
    "b = int(input())\n",
    "c = int(input())\n",
    "d = int(input())\n",
    "print ('', end='\\t')\n",
    "for k in range (c, d+1):\n",
    "    print (k, end='\\t')\n",
    "for i in range(a,b+1):\n",
    "    print ()\n",
    "    print (i, end = '\\t')\n",
    "    for j in range (c, d+1):\n",
    "        print (i*j, end='\\t')\n"
   ]
  },
  {
   "cell_type": "code",
   "execution_count": 110,
   "id": "5a680ba2",
   "metadata": {},
   "outputs": [
    {
     "name": "stdout",
     "output_type": "stream",
     "text": [
      "7\n",
      "10\n",
      "5\n",
      "6\n",
      "\t5\t6\n",
      "7\t35\t42\n",
      "8\t40\t48\n",
      "9\t45\t54\n",
      "10\t50\t60\n"
     ]
    }
   ],
   "source": [
    "a=int(input())\n",
    "b=int(input())\n",
    "c=int(input())\n",
    "d=int(input())\n",
    "\n",
    "print('', *range(c, d+1), sep='\\t')\n",
    "for i in range(a,b+1):\n",
    "    print(i, *range(i*c,(i*d)+1, i), sep='\\t')"
   ]
  },
  {
   "cell_type": "code",
   "execution_count": 5,
   "id": "fb04211d",
   "metadata": {},
   "outputs": [
    {
     "name": "stdout",
     "output_type": "stream",
     "text": [
      "-5\n",
      "12\n"
     ]
    }
   ],
   "source": [
    "a,b = int(input()), int(input())\n",
    "s = 0\n",
    "m = 0\n",
    "for j in range(min(a,b), max(a,b)+1):\n",
    "    if j%3 == 0:\n",
    "        s += j\n",
    "        m += 1"
   ]
  },
  {
   "cell_type": "code",
   "execution_count": 6,
   "id": "191466c8",
   "metadata": {},
   "outputs": [
    {
     "name": "stdout",
     "output_type": "stream",
     "text": [
      "27 6\n"
     ]
    }
   ],
   "source": [
    "print (s, m)"
   ]
  },
  {
   "cell_type": "code",
   "execution_count": 3,
   "id": "14576b4d",
   "metadata": {},
   "outputs": [
    {
     "data": {
      "text/plain": [
       "'def'"
      ]
     },
     "execution_count": 3,
     "metadata": {},
     "output_type": "execute_result"
    }
   ],
   "source": [
    "s = 'abcdefghijk'\n",
    "s[3:6]"
   ]
  },
  {
   "cell_type": "code",
   "execution_count": 7,
   "id": "9aca8977",
   "metadata": {},
   "outputs": [
    {
     "data": {
      "text/plain": [
       "'abcdef'"
      ]
     },
     "execution_count": 7,
     "metadata": {},
     "output_type": "execute_result"
    }
   ],
   "source": [
    "s[:6]"
   ]
  },
  {
   "cell_type": "code",
   "execution_count": 6,
   "id": "c7cb0feb",
   "metadata": {},
   "outputs": [
    {
     "data": {
      "text/plain": [
       "'defghijk'"
      ]
     },
     "execution_count": 6,
     "metadata": {},
     "output_type": "execute_result"
    }
   ],
   "source": [
    "s[3:]"
   ]
  },
  {
   "cell_type": "code",
   "execution_count": 8,
   "id": "ce5cc90f",
   "metadata": {},
   "outputs": [
    {
     "data": {
      "text/plain": [
       "'kjihgfedcba'"
      ]
     },
     "execution_count": 8,
     "metadata": {},
     "output_type": "execute_result"
    }
   ],
   "source": [
    "s[::-1]\n"
   ]
  },
  {
   "cell_type": "code",
   "execution_count": 9,
   "id": "ee46eab5",
   "metadata": {},
   "outputs": [
    {
     "data": {
      "text/plain": [
       "'ijk'"
      ]
     },
     "execution_count": 9,
     "metadata": {},
     "output_type": "execute_result"
    }
   ],
   "source": [
    "s[-3:]"
   ]
  },
  {
   "cell_type": "code",
   "execution_count": 10,
   "id": "258305ad",
   "metadata": {},
   "outputs": [
    {
     "data": {
      "text/plain": [
       "'abcde'"
      ]
     },
     "execution_count": 10,
     "metadata": {},
     "output_type": "execute_result"
    }
   ],
   "source": [
    "\n",
    "s[:-6]\n"
   ]
  },
  {
   "cell_type": "code",
   "execution_count": 11,
   "id": "7c90628d",
   "metadata": {},
   "outputs": [
    {
     "data": {
      "text/plain": [
       "'kigec'"
      ]
     },
     "execution_count": 11,
     "metadata": {},
     "output_type": "execute_result"
    }
   ],
   "source": [
    "s[-1:-10:-2]"
   ]
  },
  {
   "cell_type": "code",
   "execution_count": 82,
   "id": "c72c8e46",
   "metadata": {},
   "outputs": [],
   "source": [
    "a = 'dsdeeweeee'"
   ]
  },
  {
   "cell_type": "code",
   "execution_count": 74,
   "id": "11c1630b",
   "metadata": {},
   "outputs": [],
   "source": [
    "stroka = ''\n",
    "for char in a:\n",
    "    stroka = stroka + char"
   ]
  },
  {
   "cell_type": "code",
   "execution_count": 74,
   "id": "3ca999ba",
   "metadata": {},
   "outputs": [],
   "source": [
    "stroka = ''\n",
    "for char in a:\n",
    "    stroka = stroka + char"
   ]
  },
  {
   "cell_type": "code",
   "execution_count": 90,
   "id": "05c8c6ae",
   "metadata": {},
   "outputs": [],
   "source": [
    "a = 'sdfsdfsdfsdfsfffff'"
   ]
  },
  {
   "cell_type": "markdown",
   "id": "f02d6740",
   "metadata": {},
   "source": [
    "m = a[0]\n",
    "n = 0\n",
    "for char in a:\n",
    "    if char == m[-1]:\n",
    "        n += 1\n",
    "    else:\n",
    "        m += str(n)\n",
    "        m += str(char)\n",
    "        n = 1  \n",
    "m += str(n)"
   ]
  },
  {
   "cell_type": "code",
   "execution_count": 1,
   "id": "02913133",
   "metadata": {},
   "outputs": [
    {
     "name": "stdout",
     "output_type": "stream",
     "text": [
      "13 1 23 12 32 12 22\n",
      "23 36 13 55 24 54 25 "
     ]
    }
   ],
   "source": [
    "a = [int(i) for i in input().split()]\n",
    "if len(a) == 1:\n",
    "    print (a[0])\n",
    "elif len(a) == 2:\n",
    "    print(a[1], a[0], end=' ')\n",
    "else:\n",
    "    print (a[-1]+a[1], end=' ') \n",
    "    for j in range(1,len(a)-1):\n",
    "        print (a[j+1]+a[j-1], end=' ')\n",
    "    print (a[len(a)-2]+a[0])"
   ]
  },
  {
   "cell_type": "code",
   "execution_count": 69,
   "id": "23c39f57",
   "metadata": {},
   "outputs": [
    {
     "name": "stdout",
     "output_type": "stream",
     "text": [
      "1 -1 -1 -2 -2 8989 12 -222123\n",
      "-2 -1 1 "
     ]
    }
   ],
   "source": [
    "number_list = [int(i) for i in input().split()]\n",
    "number_list = sorted(number_list)\n",
    "if number_list[0] == number_list[-1] and len(number_list)>1:\n",
    "    print (number_list[0])\n",
    "else:\n",
    "    for number in range(1,len(number_list)):\n",
    "        if number_list[number] == number_list[number-1] and number_list[number] != number_list[(number+1)%len(number_list)]:\n",
    "            print (number_list[number], end=' ')\n",
    "            "
   ]
  },
  {
   "cell_type": "code",
   "execution_count": 4,
   "id": "94e28bff",
   "metadata": {},
   "outputs": [
    {
     "name": "stdout",
     "output_type": "stream",
     "text": [
      "1\n"
     ]
    }
   ],
   "source": [
    "a = input().split('\\n')"
   ]
  },
  {
   "cell_type": "code",
   "execution_count": 14,
   "id": "6363d805",
   "metadata": {},
   "outputs": [
    {
     "name": "stdout",
     "output_type": "stream",
     "text": [
      "1 -3 5 -6 -10 13 24 1\n",
      "340\n"
     ]
    }
   ],
   "source": [
    "a = [int(i) for i in input().split()]\n",
    "summa = a[0]\n",
    "s2 = a[0]**2\n",
    "if summa == 0:\n",
    "    print(0)\n",
    "else:\n",
    "    index = 1\n",
    "    while summa != 0 and index <= len(a)-1:\n",
    "        summa += a[index]\n",
    "        s2 += a[index]**2\n",
    "        index += 1\n",
    "print (s2)"
   ]
  },
  {
   "cell_type": "code",
   "execution_count": 10,
   "id": "45f858ac",
   "metadata": {},
   "outputs": [
    {
     "data": {
      "text/plain": [
       "6"
      ]
     },
     "execution_count": 10,
     "metadata": {},
     "output_type": "execute_result"
    }
   ],
   "source": [
    "index"
   ]
  },
  {
   "cell_type": "code",
   "execution_count": 13,
   "id": "fcb301c8",
   "metadata": {},
   "outputs": [
    {
     "data": {
      "text/plain": [
       "0"
      ]
     },
     "execution_count": 13,
     "metadata": {},
     "output_type": "execute_result"
    }
   ],
   "source": [
    "summa"
   ]
  },
  {
   "cell_type": "code",
   "execution_count": 46,
   "id": "a1ff5b3a",
   "metadata": {},
   "outputs": [
    {
     "name": "stdout",
     "output_type": "stream",
     "text": [
      "7\n",
      "[0, 1, 2, 3, 4, 5, 6] "
     ]
    }
   ],
   "source": [
    "n = int(input())\n",
    "rer = [i for i in range (n)]"
   ]
  },
  {
   "cell_type": "code",
   "execution_count": 47,
   "id": "9fc947da",
   "metadata": {},
   "outputs": [
    {
     "name": "stdout",
     "output_type": "stream",
     "text": [
      "7\n",
      "1 2 2 3 3 3 4\n"
     ]
    }
   ],
   "source": [
    "n = int(input())\n",
    "a = []\n",
    "i = 0\n",
    "while len(a) < n:\n",
    "    a += [i] * i\n",
    "    i += 1\n",
    "print(*a[:n])"
   ]
  },
  {
   "cell_type": "code",
   "execution_count": 64,
   "id": "33d7d023",
   "metadata": {},
   "outputs": [
    {
     "name": "stdout",
     "output_type": "stream",
     "text": [
      "1 2 3 4 56 8 8 1 18 8\n",
      "8\n",
      "5 6 9 "
     ]
    }
   ],
   "source": [
    "lst, x = input().split(), input()\n",
    "if x in lst:\n",
    "    for i in range(len(lst)):\n",
    "        if lst[i] == x:\n",
    "            print(i, end=' ')\n",
    "else:\n",
    "    print('Отсутствует')"
   ]
  },
  {
   "cell_type": "code",
   "execution_count": 113,
   "id": "31a252cb",
   "metadata": {},
   "outputs": [
    {
     "name": "stdout",
     "output_type": "stream",
     "text": [
      "1 1\n",
      "2 3\n",
      "4 5\n",
      "6 7\n",
      "8 9\n",
      "end\n"
     ]
    }
   ],
   "source": [
    "a = []\n",
    "while True:\n",
    "    a.append([i for i in input().split(' ')])\n",
    "    if a[-1] == ['end']:\n",
    "        break"
   ]
  },
  {
   "cell_type": "code",
   "execution_count": null,
   "id": "9161c227",
   "metadata": {},
   "outputs": [],
   "source": [
    "a"
   ]
  },
  {
   "cell_type": "markdown",
   "id": "b59aa48f",
   "metadata": {},
   "source": [
    "Мое решение"
   ]
  },
  {
   "cell_type": "code",
   "execution_count": 43,
   "id": "00f10520",
   "metadata": {},
   "outputs": [
    {
     "name": "stdout",
     "output_type": "stream",
     "text": [
      "1\n",
      "end\n",
      "4 \n"
     ]
    }
   ],
   "source": [
    "a = []\n",
    "while True:\n",
    "    a.append([i for i in input().split(' ')])\n",
    "    if a[-1] == ['end']:\n",
    "        break\n",
    "a.pop(-1)\n",
    "for i in range (len(a)):\n",
    "    for j in range(len(a[0])):\n",
    "        a[i][j] = int(a[i][j])\n",
    "b = [ [0 for u in range (len(a[0]))] for _ in range(len(a)) ]\n",
    "for i in range (len(a)):\n",
    "    for u in range (len(a[0])):\n",
    "        for di in range(-1,2):\n",
    "            for du in range(-1,2):\n",
    "                if abs(di)+abs(du) == 1:\n",
    "                    b[i][u] += a[(i+di)%len(a)][(u+du)%len(a[0])]\n",
    "for i in range (len(a)):\n",
    "    for u in range (len(a[0])):\n",
    "        print(b[i][u], end=' ')\n",
    "    print()"
   ]
  },
  {
   "cell_type": "markdown",
   "id": "6ba0889f",
   "metadata": {},
   "source": [
    "# краткое решение"
   ]
  },
  {
   "cell_type": "code",
   "execution_count": null,
   "id": "e98a8cb8",
   "metadata": {},
   "outputs": [],
   "source": [
    "c = []\n",
    "while True:\n",
    "    a = [i for i in input().split()]\n",
    "    if a == ['end']:\n",
    "        break\n",
    "    c.append(a)\n",
    "n, m = len(c), len(c[0])\n",
    "for i in range(n):\n",
    "    for j in range(m):\n",
    "        x = int(c[i][j-1]) + int(c[i][j+1-m]) + int(c[i-1][j]) + int(c[i+1-n][j])\n",
    "        print(x, end=' ')\n",
    "    print()"
   ]
  },
  {
   "cell_type": "code",
   "execution_count": 48,
   "id": "b9e56fdd",
   "metadata": {},
   "outputs": [
    {
     "name": "stdout",
     "output_type": "stream",
     "text": [
      "5\n",
      "1 2 3 4 5\n"
     ]
    }
   ],
   "source": [
    "n = int(input())\n",
    "max_size = [n,n]\n",
    "v =[[0 for i in range(n)] for _ in range (n)]             "
   ]
  },
  {
   "cell_type": "markdown",
   "id": "3706056e",
   "metadata": {},
   "source": [
    "Мое решение (говно)"
   ]
  },
  {
   "cell_type": "code",
   "execution_count": 84,
   "id": "7256892e",
   "metadata": {},
   "outputs": [],
   "source": [
    "n = int(input())\n",
    "v =[[0 for i in range(n)] for _ in range (n)] \n",
    "mini, minj, maxi, maxj = 0, 0, n-1, n-1\n",
    "m = 1\n",
    "napr = 0\n",
    "while m <= n**2:\n",
    "    if napr%4 == 0:\n",
    "        j = minj\n",
    "        while j < maxj+1:\n",
    "            v[mini][j] = m\n",
    "            m +=1\n",
    "            j+=1\n",
    "            if j == maxj:\n",
    "                v[mini][j] = m\n",
    "                mini += 1\n",
    "                napr +=1\n",
    "    elif napr%4 == 1:\n",
    "        i = mini\n",
    "        while i < maxi+1:\n",
    "            v[i][maxj] = m\n",
    "            m+=1\n",
    "            i += 1\n",
    "            if i == maxi:\n",
    "                v[i][maxj] = m\n",
    "                maxj -= 1\n",
    "                napr += 1\n",
    "    elif napr%4 == 2:\n",
    "        j = maxj\n",
    "        while j > minj-1:\n",
    "            v[maxi][j] = m\n",
    "            m +=1\n",
    "            j-= 1\n",
    "            if j == minj:\n",
    "                v[maxi][j] = m\n",
    "                maxi -= 1\n",
    "                napr +=1\n",
    "    else:\n",
    "        i = maxi\n",
    "        while i > mini-1:\n",
    "            v[i][minj] = m\n",
    "            m += 1\n",
    "            i -= 1\n",
    "            if i == mini:\n",
    "                v[i][minj] = m\n",
    "                minj += 1\n",
    "                napr += 1\n",
    "if n%2 == 1:\n",
    "    v[n//2][n//2-1] = n**2 - 1\n",
    "    v[(n//2)][(n//2)] = n**2\n",
    "else:\n",
    "    v[(n//2)][(n//2-1)] = n**2\n",
    "    v[(n//2)][(n//2)] = n**2-1"
   ]
  },
  {
   "cell_type": "markdown",
   "id": "01ea8910",
   "metadata": {},
   "source": [
    "Норм решение с сайта"
   ]
  },
  {
   "cell_type": "code",
   "execution_count": null,
   "id": "c8989f4c",
   "metadata": {},
   "outputs": [],
   "source": [
    "n=int(input())\n",
    "t=[[0]*n for i in range (n)]\n",
    "i,j=0,0\n",
    "for k in range(1, n*n+1):\n",
    "  t[i][j]=k\n",
    "  if k==n*n: break\n",
    "  if i<=j+1 and i+j<n-1: j+=1\n",
    "  elif i<j and i+j>=n-1: i+=1\n",
    "  elif i>=j and i+j>n-1: j-=1\n",
    "  elif i>j+1 and i+j<=n-1: i-=1\n",
    "for i in range(n):\n",
    "  print(*t[i])"
   ]
  },
  {
   "cell_type": "markdown",
   "id": "20fc61a7",
   "metadata": {},
   "source": [
    "# Мое решение слегка кривое"
   ]
  },
  {
   "cell_type": "code",
   "execution_count": 42,
   "id": "161bed36",
   "metadata": {},
   "outputs": [],
   "source": [
    "def modify_list(l):\n",
    "    i = 0\n",
    "    while i < len(l):\n",
    "        if l[i]%2 != 1:\n",
    "            l[i] = l[i]//2\n",
    "            i +=1\n",
    "        else:\n",
    "            l.pop(i)"
   ]
  },
  {
   "cell_type": "markdown",
   "id": "c19afb74",
   "metadata": {},
   "source": [
    "#Решение из комментов"
   ]
  },
  {
   "cell_type": "code",
   "execution_count": null,
   "id": "8465ed17",
   "metadata": {},
   "outputs": [],
   "source": [
    "def modify_list(l):\n",
    "    l[:] = [i//2 for i in l if i % 2 == 0]"
   ]
  },
  {
   "cell_type": "markdown",
   "id": "1384ae37",
   "metadata": {},
   "source": [
    "мое решение"
   ]
  },
  {
   "cell_type": "code",
   "execution_count": null,
   "id": "d11976f8",
   "metadata": {},
   "outputs": [],
   "source": [
    "def update_dictionary(d, key, value):\n",
    "    if key in d:\n",
    "        d[key].append(value)\n",
    "    elif key not in d and 2*key in d:\n",
    "        d[2*key].append(value)\n",
    "    else:\n",
    "        d[2*key] = [value]"
   ]
  },
  {
   "cell_type": "markdown",
   "id": "059d6c65",
   "metadata": {},
   "source": [
    "Мое решение"
   ]
  },
  {
   "cell_type": "code",
   "execution_count": 57,
   "id": "db79ee42",
   "metadata": {},
   "outputs": [],
   "source": [
    "full_set = input().lower().split()\n",
    "b = dict()\n",
    "for i in set(full_set):\n",
    "    b[i] = full_set.count(i)\n",
    "for key, value in b.items():\n",
    "    print(key, value, end='')\n",
    "    print()"
   ]
  },
  {
   "cell_type": "markdown",
   "id": "4d804d83",
   "metadata": {},
   "source": [
    "Решение из комментов покороче"
   ]
  },
  {
   "cell_type": "code",
   "execution_count": null,
   "id": "93c0a845",
   "metadata": {},
   "outputs": [],
   "source": [
    "s = input().lower().split()\n",
    "for i in set(s):\n",
    "    print(i, s.count(i))"
   ]
  },
  {
   "cell_type": "code",
   "execution_count": null,
   "id": "be23f4ce",
   "metadata": {},
   "outputs": [],
   "source": [
    "l = input().lower().split()\n",
    "d  = {e:0 for e in l} #создаем словарь на основе списка с 0 значениями\n",
    "for key in l: d[key]+= 1 #тупо считаем повторяющиеся\n",
    "for key,value in d.items(): print(key, value) #тупо выводим"
   ]
  },
  {
   "cell_type": "markdown",
   "id": "290587ee",
   "metadata": {},
   "source": [
    "Мое решение"
   ]
  },
  {
   "cell_type": "code",
   "execution_count": null,
   "id": "4b52e663",
   "metadata": {},
   "outputs": [],
   "source": [
    "n = int(input())\n",
    "num_list = [int(input()) for i in range(n)]\n",
    "d = dict()\n",
    "for key in num_list:\n",
    "    if key not in d:\n",
    "        d[key] = f(key)\n",
    "for i in num_list:\n",
    "    print (d.get(i))"
   ]
  },
  {
   "cell_type": "markdown",
   "id": "6096b7a6",
   "metadata": {},
   "source": [
    "Краткое решение"
   ]
  },
  {
   "cell_type": "code",
   "execution_count": null,
   "id": "d5a90f04",
   "metadata": {},
   "outputs": [],
   "source": [
    "a=[int(input()) for i in range(int(input()))]\n",
    "b={x:f(x) for x in set(a)}\n",
    "for i in a:\n",
    "    print(b[i])"
   ]
  },
  {
   "cell_type": "markdown",
   "id": "613fef41",
   "metadata": {},
   "source": [
    "Мое решение"
   ]
  },
  {
   "cell_type": "code",
   "execution_count": 1,
   "id": "f3534ad7",
   "metadata": {},
   "outputs": [],
   "source": [
    "with open('C:\\\\Users\\\\Алексей Корнейчук\\\\Documents\\\\anaconda\\\\dataset_3363_2.txt', 'r') as df:\n",
    "    a = df.readline()    \n",
    "b = str()\n",
    "index = 1\n",
    "while index < len(a):\n",
    "    if a[index] < 'A':\n",
    "        num = str()\n",
    "        while a[index] < 'A' :\n",
    "            num += a[index]\n",
    "            index += 1\n",
    "            if index == len(a):\n",
    "                break\n",
    "        b += a[index-len(num)-1]*int(num)\n",
    "    index +=1\n",
    "with open ('C:\\\\Users\\\\Алексей Корнейчук\\\\Documents\\\\anaconda\\\\dataset_3363_2_ans.txt', 'w') as out:\n",
    "    out.write(b)"
   ]
  },
  {
   "cell_type": "markdown",
   "id": "f9761e64",
   "metadata": {},
   "source": [
    "# короткое с сайта"
   ]
  },
  {
   "cell_type": "code",
   "execution_count": null,
   "id": "8e5834b3",
   "metadata": {},
   "outputs": [],
   "source": [
    "with open('dataset_3363_2.txt', 'r') as f:\n",
    "    s = f.readline().strip()\n",
    "i = 0\n",
    "while i < len(s):\n",
    "    j = i + 1\n",
    "    while j < len(s) and s[j].isdigit():\n",
    "        j += 1\n",
    "    print(s[i] * int(s[i+1:j]), end='')\n",
    "    i = j"
   ]
  },
  {
   "cell_type": "markdown",
   "id": "e052749c",
   "metadata": {},
   "source": [
    "Мое решение"
   ]
  },
  {
   "cell_type": "code",
   "execution_count": 28,
   "id": "edcf9994",
   "metadata": {},
   "outputs": [],
   "source": [
    "with open ('C:\\\\Users\\\\Алексей Корнейчук\\\\Documents\\\\anaconda\\\\dataset_3363_3.txt', 'r') as f:\n",
    "    full_set = f.read().lower().strip().split()\n",
    "b = dict()\n",
    "for i in set(full_set):\n",
    "    b[i] = full_set.count(i)\n",
    "max_count = 0\n",
    "for value in b.values():\n",
    "    if value > max_count:\n",
    "        max_count = value\n",
    "min_str = 'э'\n",
    "searched = 0\n",
    "for key, value in b.items():\n",
    "    if value == max_count and min_str > key:\n",
    "        min_str = key\n",
    "with open ('C:\\\\Users\\\\Алексей Корнейчук\\\\Documents\\\\anaconda\\\\test_ans.txt', 'w') as out:\n",
    "    out.write(min_str + ' ') \n",
    "    out.write(str(max_count))"
   ]
  },
  {
   "cell_type": "markdown",
   "id": "3460a55e",
   "metadata": {},
   "source": [
    "Из решений на степике"
   ]
  },
  {
   "cell_type": "code",
   "execution_count": 25,
   "id": "e150414b",
   "metadata": {},
   "outputs": [],
   "source": [
    "with open('dataset_3363_3.txt') as inf, open('MostPopularWord.txt','w') as ouf:\n",
    "    maxc = 0\n",
    "    s = inf.read().lower().strip().split()\n",
    "    s.sort()\n",
    "    for word in s:\n",
    "        counter = s.count(word)\n",
    "        if counter > maxc:\n",
    "            maxc = counter\n",
    "            result_word = word\n",
    "    ouf.write(result_word +' ' + str(maxc))"
   ]
  },
  {
   "cell_type": "markdown",
   "id": "41730c4d",
   "metadata": {},
   "source": [
    "Мое решение"
   ]
  },
  {
   "cell_type": "code",
   "execution_count": 32,
   "id": "6446a4b2",
   "metadata": {},
   "outputs": [],
   "source": [
    "with open('C:\\\\Users\\\\Алексей Корнейчук\\\\Documents\\\\anaconda\\\\dataset_3363_4.txt', 'r', encoding='utf-8') as f, open('C:\\\\Users\\\\Алексей Корнейчук\\\\Documents\\\\anaconda\\\\test_ans.txt', 'w', encoding='utf-8') as ouf:\n",
    "    full_set = f.read().strip().split('\\n')\n",
    "    for char in range (len(full_set)):\n",
    "        full_set[char] = full_set[char].split(';')\n",
    "        a = round((int(full_set[char][1]) + int(full_set[char][2]) + int(full_set[char][3])) / 3,ndigits=9)\n",
    "        ouf.write(str(a)+'\\n')\n",
    "    math, phys, russ = 0, 0, 0\n",
    "    for char in range (len(full_set)):\n",
    "        math += int(full_set[char][1])\n",
    "        phys += int(full_set[char][2])\n",
    "        russ += int(full_set[char][3])\n",
    "    phys = round(phys/len(full_set),9)\n",
    "    russ = round(russ/len(full_set),9)\n",
    "    math = round(math/len(full_set),9)  \n",
    "    ouf.write(str(math) + ' ' + str(phys) + ' ' + str(russ))"
   ]
  },
  {
   "cell_type": "markdown",
   "id": "e8b79cef",
   "metadata": {},
   "source": [
    "Решение покороче из комментов"
   ]
  },
  {
   "cell_type": "code",
   "execution_count": null,
   "id": "51cf0c7d",
   "metadata": {},
   "outputs": [],
   "source": [
    "koll, a1, b1, c1 = 0, 0, 0, 0\n",
    "with open('dataset_3363_4.txt', 'r') as inf:\n",
    "    for line in inf:\n",
    "        line = line.strip().split(';')\n",
    "        a, b, c = int(line[1]), int(line[2]), int(line[3])\n",
    "        print((a+b+c)/3)\n",
    "        koll += 1\n",
    "        a1 += a\n",
    "        b1 += b\n",
    "        c1 += c\n",
    "print((a1/koll), (b1/koll), (c1/koll))"
   ]
  },
  {
   "cell_type": "markdown",
   "id": "68512e69",
   "metadata": {},
   "source": [
    "Мое решение"
   ]
  },
  {
   "cell_type": "code",
   "execution_count": 30,
   "id": "f9279f08",
   "metadata": {},
   "outputs": [
    {
     "name": "stdout",
     "output_type": "stream",
     "text": [
      "0\n"
     ]
    }
   ],
   "source": [
    "n = int(input())\n",
    "long_list =[[i] for i in range(n)]\n",
    "for j in range (n):\n",
    "    long_list[j] = [i for i in input().split(';')]\n",
    "a = []\n",
    "for row in range (n):\n",
    "    for st in range(0,3,2):\n",
    "        a.append(long_list[row][st])\n",
    "a = set(a) \n",
    "scoreboard = {key: value for key, value in zip(a, [[0,0,0,0,0] for i in range (len(a))])}\n",
    "for line in range(n):\n",
    "    if int(long_list[line][1]) > int(long_list[line][3]):\n",
    "        scoreboard[long_list[line][0]][4] += 3\n",
    "        scoreboard[long_list[line][0]][1] += 1\n",
    "        scoreboard[long_list[line][2]][3] += 1\n",
    "        scoreboard[long_list[line][2]][0] += 1\n",
    "        scoreboard[long_list[line][0]][0] += 1\n",
    "    elif int(long_list[line][1]) == int(long_list[line][3]):\n",
    "        scoreboard[long_list[line][0]][4] += 1\n",
    "        scoreboard[long_list[line][2]][4] += 1\n",
    "        scoreboard[long_list[line][0]][2] += 1\n",
    "        scoreboard[long_list[line][2]][2] += 1\n",
    "        scoreboard[long_list[line][2]][0] += 1\n",
    "        scoreboard[long_list[line][0]][0] += 1\n",
    "    else:\n",
    "        scoreboard[long_list[line][2]][4] += 3\n",
    "        scoreboard[long_list[line][2]][1] += 1\n",
    "        scoreboard[long_list[line][0]][3] += 1\n",
    "        scoreboard[long_list[line][2]][0] += 1\n",
    "        scoreboard[long_list[line][0]][0] += 1\n",
    "for q, w in scoreboard.items():\n",
    "    print((q+':'), *w, end='\\n')"
   ]
  },
  {
   "cell_type": "markdown",
   "id": "be02fdcb",
   "metadata": {},
   "source": [
    "Решение со степика"
   ]
  },
  {
   "cell_type": "code",
   "execution_count": null,
   "id": "883e2f20",
   "metadata": {},
   "outputs": [],
   "source": [
    "a=[input().split(';') for i in range(int(input()))]\n",
    "b={i:[] for i in set([i[0] for i in a])|set([i[2] for i in a])}\n",
    "for i in a:\n",
    "    b[i[0]].append(1 if i[1]==i[3] else 3 if i[1]>i[3] else 0)\n",
    "    b[i[2]].append(1 if i[1]==i[3] else 3 if i[1]<i[3] else 0)\n",
    "for i in b: print('%s:%i %i %i %i %i'%(i,len(b[i]),b[i].count(3),b[i].count(1),b[i].count(0),sum(b[i])))"
   ]
  },
  {
   "cell_type": "markdown",
   "id": "1f72d55b",
   "metadata": {},
   "source": [
    "Мое решение"
   ]
  },
  {
   "cell_type": "code",
   "execution_count": 41,
   "id": "7a67771f",
   "metadata": {},
   "outputs": [
    {
     "name": "stdout",
     "output_type": "stream",
     "text": [
      "0\n",
      "0\n",
      "0\n",
      "0\n",
      "0\n",
      "0\n"
     ]
    }
   ],
   "source": [
    "initial = input()\n",
    "decoded = input()\n",
    "string_to_encode = input()\n",
    "string_to_decode = input() \n",
    "initial = list(initial)\n",
    "decoded = list(decoded)\n",
    "dictionary = {key : value for key,value in zip(initial, decoded)}\n",
    "result_encoded, result_decoded = '', ''\n",
    "for char in string_to_encode:\n",
    "    result_encoded += dictionary[char]\n",
    "print (result_encoded)\n",
    "for char in string_to_decode:\n",
    "    result_decoded += list(dictionary.keys())[list(dictionary.values()).index(char)]\n",
    "print (result_decoded)"
   ]
  },
  {
   "cell_type": "markdown",
   "id": "daa4a226",
   "metadata": {},
   "source": [
    "Решение из комментов"
   ]
  },
  {
   "cell_type": "code",
   "execution_count": null,
   "id": "9a899e81",
   "metadata": {},
   "outputs": [],
   "source": [
    "a,b,c,d=input(),input(),input(),input()\n",
    "print(''.join(b[a.index(i)] for i in c))\n",
    "print(''.join(a[b.index(i)] for i in d))"
   ]
  }
 ],
 "metadata": {
  "kernelspec": {
   "display_name": "Python 3 (ipykernel)",
   "language": "python",
   "name": "python3"
  },
  "language_info": {
   "codemirror_mode": {
    "name": "ipython",
    "version": 3
   },
   "file_extension": ".py",
   "mimetype": "text/x-python",
   "name": "python",
   "nbconvert_exporter": "python",
   "pygments_lexer": "ipython3",
   "version": "3.9.13"
  }
 },
 "nbformat": 4,
 "nbformat_minor": 5
}
